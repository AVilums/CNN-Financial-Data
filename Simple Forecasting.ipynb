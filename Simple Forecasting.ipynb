{
 "cells": [
  {
   "cell_type": "markdown",
   "metadata": {},
   "source": [
    "# Simple Forecasting\n",
    "\n",
    "## Our Focus problem are :\n",
    "- Regressiong Problem ( trying to get forecast exactly close price or return next day )\n",
    "- Binary classification problem ( price will go up [1;0] or down [0;1] )\n"
   ]
  },
  {
   "cell_type": "code",
   "execution_count": 1,
   "metadata": {},
   "outputs": [
    {
     "name": "stderr",
     "output_type": "stream",
     "text": [
      "Using TensorFlow backend.\n"
     ]
    }
   ],
   "source": [
    "import numpy as np\n",
    "from sklearn import preprocessing\n",
    "from sklearn.metrics import mean_squared_error, classification_report\n",
    "import matplotlib.pylab as plt\n",
    "import datetime as dt\n",
    "import pandas as pd\n",
    "import time\n",
    "\n",
    "from keras.models import Sequential\n",
    "from keras.layers.core import Dense, Dropout, Activation, Flatten\n",
    "from keras.layers.recurrent import LSTM, GRU\n",
    "from keras.layers import Convolution1D, MaxPooling1D\n",
    "from keras.callbacks import Callback\n",
    "\n",
    "%matplotlib inline  \n",
    "\n",
    "plt.rcParams[\"figure.figsize\"] = [16,9]"
   ]
  },
  {
   "cell_type": "markdown",
   "metadata": {},
   "source": [
    "## Prepare the data\n",
    "We want to predict t+1 value based on N previous days information (historical financial data).\n",
    "Example : having close prices from past 30 days on the market we want to predict, what price willl be tomorrow, on the 31th day.\n",
    "we will use 90% as training set and 10% as testing for model evaluation."
   ]
  },
  {
   "cell_type": "code",
   "execution_count": 2,
   "metadata": {
    "collapsed": true
   },
   "outputs": [],
   "source": [
    "class TrainingHistory(Callback):\n",
    "    def on_train_begin(self, logs={}):\n",
    "        self.losses = []\n",
    "        self.accuracy = []\n",
    "        self.predictions = []\n",
    "        self.i = 0\n",
    "        self.save_every = 5000\n",
    "\n",
    "    def on_batch_end(self, batch, logs={}):\n",
    "        self.losses.append(logs.get('loss'))\n",
    "        self.accuracy.append(logs.get('acc'))\n",
    "        self.i += 1        \n",
    "        if self.i % self.save_every == 0:        \n",
    "            pred = model.predict(X_train)\n",
    "            self.predictions.append(pred)\n",
    "            \n",
    "def load_close(data):\n",
    "    f = open(data, 'r').readlines()[1:]\n",
    "    raw_data = []\n",
    "    raw_dates = []\n",
    "    for line in f:\n",
    "        try:\n",
    "            close_price = float(line.split(',')[4])\n",
    "            raw_data.append(close_price)\n",
    "            raw_dates.append(line.split(',')[0])\n",
    "        except:\n",
    "            continue\n",
    "    return raw_data, raw_dates\n",
    "\n",
    "def load_returns(data):\n",
    "    f = open(data, 'r').readlines()[1:]\n",
    "    raw_data = []\n",
    "    raw_dates = []\n",
    "    for line in f:\n",
    "        try:\n",
    "            open_price = float(line.split(',')[1])\n",
    "            close_price = float(line.split(',')[4])\n",
    "            raw_data.append(close_price - open_price)\n",
    "            raw_dates.append(line.split(',')[0])\n",
    "        except:\n",
    "            continue\n",
    "\n",
    "    return raw_data[::-1], raw_dates[::-1]\n",
    "\n",
    "def split_into_chunks(data, train, predict, step, binary=True, scale=True):\n",
    "    X, Y = [], []\n",
    "    for i in range(0, len(data), step):\n",
    "        try:\n",
    "            x_i = data[i:i+train]\n",
    "            y_i = data[i+train+predict]\n",
    "            \n",
    "            # Use it only for daily return time series\n",
    "            if binary:\n",
    "                if y_i > 0.:\n",
    "                    y_i = [1., 0.]\n",
    "                else:\n",
    "                    y_i = [0., 1.]\n",
    "\n",
    "                if scale: x_i = preprocessing.scale(x_i)\n",
    "                \n",
    "            else:\n",
    "                timeseries = np.array(data[i:i+train+predict])\n",
    "                if scale: timeseries = preprocessing.scale(timeseries)\n",
    "                x_i = timeseries[:-1]\n",
    "                y_i = timeseries[-1]\n",
    "            \n",
    "        except:\n",
    "            break\n",
    "\n",
    "        X.append(x_i)\n",
    "        Y.append(y_i)\n",
    "\n",
    "    return X, Y\n",
    "\n",
    "def shuffle_in_unison(a, b):\n",
    "    assert len(a) == len(b)\n",
    "    shuffled_a = np.empty(a.shape, dtype=a.dtype)\n",
    "    shuffled_b = np.empty(b.shape, dtype=b.dtype)\n",
    "    permutation = np.random.permutation(len(a))\n",
    "    for old_index, new_index in enumerate(permutation):\n",
    "        shuffled_a[new_index] = a[old_index]\n",
    "        shuffled_b[new_index] = b[old_index]\n",
    "    return shuffled_a, shuffled_b\n",
    "\n",
    "\n",
    "def create_Xt_Yt(X, y, percentage=0.9):\n",
    "    p = int(len(X) * percentage)\n",
    "    X_train = X[0:p]\n",
    "    Y_train = y[0:p]\n",
    "     \n",
    "    X_train, Y_train = shuffle_in_unison(X_train, Y_train)\n",
    " \n",
    "    X_test = X[p:]\n",
    "    Y_test = y[p:]\n",
    "\n",
    "    return X_train, X_test, Y_train, Y_test\n",
    "\n",
    "def load_portfolio(ticker, start_date, end_date):\n",
    "    data = {}\n",
    "    ticker_set = ticker\n",
    "    for ticker in ticker_set:\n",
    "        data[ticker] = pd.read_csv(\"stockdatas/{}.csv\".format(ticker), parse_dates=['date'])\n",
    "        data[ticker].set_index(\"date\", inplace=True)\n",
    "        data[ticker] = data[ticker]['adjClose']\n",
    "    data = pd.DataFrame(data, columns=ticker_set)\n",
    "\n",
    "    data = data.loc[(start_date <= data.index) & (data.index <= end_date)]\n",
    "\n",
    "    data = data[data.columns[np.any(np.isnan(data), axis=0) == False]]\n",
    "\n",
    "    data = data[data.columns[np.isnan(data.iloc[-1]) == False]]\n",
    "    data = data / data.iloc[0]\n",
    "    return data"
   ]
  },
  {
   "cell_type": "markdown",
   "metadata": {},
   "source": [
    "# Regression problem - Multi Layer Perceptron (MLP)\n",
    "\n",
    "It will be just 2 hidden layer perceptron. between 2 layers we add one dropout layer to prevent overfitting.\n",
    "\n",
    "Dense(1), Activation and mse in compile section is important thing. We want one output that can be any range (we predict real value) and our loss function is defined as mean squared error (MSE)."
   ]
  },
  {
   "cell_type": "code",
   "execution_count": 3,
   "metadata": {},
   "outputs": [
    {
     "data": {
      "text/plain": [
       "[<matplotlib.lines.Line2D at 0x7f16747233c8>]"
      ]
     },
     "execution_count": 3,
     "metadata": {},
     "output_type": "execute_result"
    },
    {
     "data": {
      "image/png": "[encoded data removed]",
      "text/plain": [
       "<matplotlib.figure.Figure at 0x7f16747f1438>"
      ]
     },
     "metadata": {},
     "output_type": "display_data"
    }
   ],
   "source": [
    "timeseries, dates = load_close('stockdatas/VTI.csv')\n",
    "dates = [dt.datetime.strptime(d,'%Y-%m-%d').date() for d in dates]\n",
    "plt.plot(dates, timeseries)"
   ]
  },
  {
   "cell_type": "code",
   "execution_count": 4,
   "metadata": {
    "collapsed": true
   },
   "outputs": [],
   "source": [
    "TRAIN_SIZE = 120 # train size for 6 month financial data\n",
    "TARGET_TIME = 20 # predict for 20 financial days or a month\n",
    "LAG_SIZE = 1\n",
    "EMB_SIZE = 1\n",
    "\n",
    "X, Y = split_into_chunks(timeseries, TRAIN_SIZE, TARGET_TIME, LAG_SIZE, binary=False, scale=False)\n",
    "X, Y = np.array(X), np.array(Y)\n",
    "X_train, X_test, Y_train, Y_test = create_Xt_Yt(X, Y, percentage=0.9)\n",
    "\n",
    "Xp, Yp = split_into_chunks(timeseries, TRAIN_SIZE, TARGET_TIME, LAG_SIZE, binary=False, scale=False)\n",
    "Xp, Yp = np.array(Xp), np.array(Yp)\n",
    "X_trainp, X_testp, Y_trainp, Y_testp = create_Xt_Yt(Xp, Yp, percentage=0.9)"
   ]
  },
  {
   "cell_type": "code",
   "execution_count": 14,
   "metadata": {},
   "outputs": [
    {
     "ename": "ValueError",
     "evalue": "Error when checking input: expected dense_10_input to have shape (None, 120) but got array with shape (3566, 139)",
     "output_type": "error",
     "traceback": [
      "\u001b[0;31m---------------------------------------------------------------------------\u001b[0m",
      "\u001b[0;31mValueError\u001b[0m                                Traceback (most recent call last)",
      "\u001b[0;32m<ipython-input-14-f4baeaa4a158>\u001b[0m in \u001b[0;36m<module>\u001b[0;34m()\u001b[0m\n\u001b[1;32m     15\u001b[0m           \u001b[0mbatch_size\u001b[0m \u001b[0;34m=\u001b[0m \u001b[0;36m128\u001b[0m\u001b[0;34m,\u001b[0m\u001b[0;34m\u001b[0m\u001b[0m\n\u001b[1;32m     16\u001b[0m           \u001b[0mverbose\u001b[0m\u001b[0;34m=\u001b[0m\u001b[0;36m2\u001b[0m\u001b[0;34m,\u001b[0m\u001b[0;34m\u001b[0m\u001b[0m\n\u001b[0;32m---> 17\u001b[0;31m           validation_split=0.2)\n\u001b[0m\u001b[1;32m     18\u001b[0m \u001b[0mscore\u001b[0m \u001b[0;34m=\u001b[0m \u001b[0mmodel\u001b[0m\u001b[0;34m.\u001b[0m\u001b[0mevaluate\u001b[0m\u001b[0;34m(\u001b[0m\u001b[0mX_test\u001b[0m\u001b[0;34m,\u001b[0m \u001b[0mY_test\u001b[0m\u001b[0;34m,\u001b[0m \u001b[0mverbose\u001b[0m\u001b[0;34m=\u001b[0m\u001b[0;36m2\u001b[0m\u001b[0;34m)\u001b[0m\u001b[0;34m\u001b[0m\u001b[0m\n\u001b[1;32m     19\u001b[0m \u001b[0mprint\u001b[0m\u001b[0;34m(\u001b[0m\u001b[0;34m\"\\nScore :\"\u001b[0m\u001b[0;34m,\u001b[0m\u001b[0mscore\u001b[0m\u001b[0;34m)\u001b[0m\u001b[0;34m\u001b[0m\u001b[0m\n",
      "\u001b[0;32m~/anaconda3/envs/research/lib/python3.5/site-packages/keras/models.py\u001b[0m in \u001b[0;36mfit\u001b[0;34m(self, x, y, batch_size, epochs, verbose, callbacks, validation_split, validation_data, shuffle, class_weight, sample_weight, initial_epoch, **kwargs)\u001b[0m\n\u001b[1;32m    865\u001b[0m                               \u001b[0mclass_weight\u001b[0m\u001b[0;34m=\u001b[0m\u001b[0mclass_weight\u001b[0m\u001b[0;34m,\u001b[0m\u001b[0;34m\u001b[0m\u001b[0m\n\u001b[1;32m    866\u001b[0m                               \u001b[0msample_weight\u001b[0m\u001b[0;34m=\u001b[0m\u001b[0msample_weight\u001b[0m\u001b[0;34m,\u001b[0m\u001b[0;34m\u001b[0m\u001b[0m\n\u001b[0;32m--> 867\u001b[0;31m                               initial_epoch=initial_epoch)\n\u001b[0m\u001b[1;32m    868\u001b[0m \u001b[0;34m\u001b[0m\u001b[0m\n\u001b[1;32m    869\u001b[0m     def evaluate(self, x, y, batch_size=32, verbose=1,\n",
      "\u001b[0;32m~/anaconda3/envs/research/lib/python3.5/site-packages/keras/engine/training.py\u001b[0m in \u001b[0;36mfit\u001b[0;34m(self, x, y, batch_size, epochs, verbose, callbacks, validation_split, validation_data, shuffle, class_weight, sample_weight, initial_epoch, steps_per_epoch, validation_steps, **kwargs)\u001b[0m\n\u001b[1;32m   1520\u001b[0m             \u001b[0mclass_weight\u001b[0m\u001b[0;34m=\u001b[0m\u001b[0mclass_weight\u001b[0m\u001b[0;34m,\u001b[0m\u001b[0;34m\u001b[0m\u001b[0m\n\u001b[1;32m   1521\u001b[0m             \u001b[0mcheck_batch_axis\u001b[0m\u001b[0;34m=\u001b[0m\u001b[0;32mFalse\u001b[0m\u001b[0;34m,\u001b[0m\u001b[0;34m\u001b[0m\u001b[0m\n\u001b[0;32m-> 1522\u001b[0;31m             batch_size=batch_size)\n\u001b[0m\u001b[1;32m   1523\u001b[0m         \u001b[0;31m# Prepare validation data.\u001b[0m\u001b[0;34m\u001b[0m\u001b[0;34m\u001b[0m\u001b[0m\n\u001b[1;32m   1524\u001b[0m         \u001b[0mdo_validation\u001b[0m \u001b[0;34m=\u001b[0m \u001b[0;32mFalse\u001b[0m\u001b[0;34m\u001b[0m\u001b[0m\n",
      "\u001b[0;32m~/anaconda3/envs/research/lib/python3.5/site-packages/keras/engine/training.py\u001b[0m in \u001b[0;36m_standardize_user_data\u001b[0;34m(self, x, y, sample_weight, class_weight, check_batch_axis, batch_size)\u001b[0m\n\u001b[1;32m   1376\u001b[0m                                     \u001b[0mself\u001b[0m\u001b[0;34m.\u001b[0m\u001b[0m_feed_input_shapes\u001b[0m\u001b[0;34m,\u001b[0m\u001b[0;34m\u001b[0m\u001b[0m\n\u001b[1;32m   1377\u001b[0m                                     \u001b[0mcheck_batch_axis\u001b[0m\u001b[0;34m=\u001b[0m\u001b[0;32mFalse\u001b[0m\u001b[0;34m,\u001b[0m\u001b[0;34m\u001b[0m\u001b[0m\n\u001b[0;32m-> 1378\u001b[0;31m                                     exception_prefix='input')\n\u001b[0m\u001b[1;32m   1379\u001b[0m         y = _standardize_input_data(y, self._feed_output_names,\n\u001b[1;32m   1380\u001b[0m                                     \u001b[0moutput_shapes\u001b[0m\u001b[0;34m,\u001b[0m\u001b[0;34m\u001b[0m\u001b[0m\n",
      "\u001b[0;32m~/anaconda3/envs/research/lib/python3.5/site-packages/keras/engine/training.py\u001b[0m in \u001b[0;36m_standardize_input_data\u001b[0;34m(data, names, shapes, check_batch_axis, exception_prefix)\u001b[0m\n\u001b[1;32m    142\u001b[0m                             \u001b[0;34m' to have shape '\u001b[0m \u001b[0;34m+\u001b[0m \u001b[0mstr\u001b[0m\u001b[0;34m(\u001b[0m\u001b[0mshapes\u001b[0m\u001b[0;34m[\u001b[0m\u001b[0mi\u001b[0m\u001b[0;34m]\u001b[0m\u001b[0;34m)\u001b[0m \u001b[0;34m+\u001b[0m\u001b[0;34m\u001b[0m\u001b[0m\n\u001b[1;32m    143\u001b[0m                             \u001b[0;34m' but got array with shape '\u001b[0m \u001b[0;34m+\u001b[0m\u001b[0;34m\u001b[0m\u001b[0m\n\u001b[0;32m--> 144\u001b[0;31m                             str(array.shape))\n\u001b[0m\u001b[1;32m    145\u001b[0m     \u001b[0;32mreturn\u001b[0m \u001b[0marrays\u001b[0m\u001b[0;34m\u001b[0m\u001b[0m\n\u001b[1;32m    146\u001b[0m \u001b[0;34m\u001b[0m\u001b[0m\n",
      "\u001b[0;31mValueError\u001b[0m: Error when checking input: expected dense_10_input to have shape (None, 120) but got array with shape (3566, 139)"
     ]
    }
   ],
   "source": [
    "model = Sequential()\n",
    "model.add(Dense(500, input_dim= (TRAIN_SIZE)))\n",
    "model.add(Activation('relu'))\n",
    "model.add(Dropout(0.25))\n",
    "model.add(Dense(250))\n",
    "model.add(Activation('relu'))\n",
    "model.add(Dense(1))\n",
    "model.add(Activation('linear'))\n",
    "model.compile(optimizer='adam', \n",
    "              loss='mse')\n",
    "\n",
    "model.fit(X_train, \n",
    "          Y_train, \n",
    "          epochs=5, \n",
    "          batch_size = 128, \n",
    "          verbose=2, \n",
    "          validation_split=0.2)\n",
    "score = model.evaluate(X_test, Y_test, verbose=2)\n",
    "print(\"\\nScore :\",score)"
   ]
  },
  {
   "cell_type": "code",
   "execution_count": null,
   "metadata": {},
   "outputs": [],
   "source": [
    "\n",
    "params = []\n",
    "for xt in X_testp:\n",
    "    xt = np.array(xt)\n",
    "    mean_ = xt.mean()\n",
    "    scale_ = xt.std()\n",
    "    params.append([mean_, scale_])\n",
    "\n",
    "predicted = model.predict(X_test)\n",
    "new_predicted = []\n",
    "\n",
    "for pred, par in zip(predicted, params):\n",
    "    a = pred*par[1]\n",
    "    a += par[0]\n",
    "    new_predicted.append(a)\n",
    "    \n",
    "\n",
    "mse = mean_squared_error(predicted, new_predicted)\n",
    "print (\"Mean Squared Error : \",mse)\n",
    "\n",
    "try:\n",
    "    #plt.plot(Y_test[:150], color='black') # BLACK - trained RESULT\n",
    "    plt.plot(predicted[:150], color='blue') # BLUE - trained PREDICTION\n",
    "    plt.plot(Y_testp[:150], color='green') # GREEN - actual RESULT\n",
    "    #plt.plot(new_predicted[:150], color='red') # RED - restored PREDICTION\n",
    "    plt.show()\n",
    "except Exception as e:\n",
    "    print (str(e))"
   ]
  },
  {
   "cell_type": "markdown",
   "metadata": {},
   "source": [
    "# Regression problem - RNN"
   ]
  },
  {
   "cell_type": "code",
   "execution_count": 15,
   "metadata": {},
   "outputs": [
    {
     "data": {
      "text/plain": [
       "[<matplotlib.lines.Line2D at 0x7f167117dac8>]"
      ]
     },
     "execution_count": 15,
     "metadata": {},
     "output_type": "execute_result"
    },
    {
     "data": {
      "image/png": "[encoded data removed]",
      "text/plain": [
       "<matplotlib.figure.Figure at 0x7f16711d3160>"
      ]
     },
     "metadata": {},
     "output_type": "display_data"
    }
   ],
   "source": [
    "timeseries, dates = load_returns('stockdatas/VTI.csv')\n",
    "dates = [dt.datetime.strptime(d,'%Y-%m-%d').date() for d in dates]\n",
    "plt.plot(dates, timeseries)"
   ]
  },
  {
   "cell_type": "code",
   "execution_count": 16,
   "metadata": {},
   "outputs": [
    {
     "name": "stdout",
     "output_type": "stream",
     "text": [
      "4072 4072\n"
     ]
    }
   ],
   "source": [
    "TRAIN_SIZE = 30\n",
    "TARGET_TIME = 1\n",
    "LAG_SIZE = 1\n",
    "EMB_SIZE = 1\n",
    "HIDDEN_RNN = 4\n",
    "\n",
    "X, Y = split_into_chunks(timeseries, TRAIN_SIZE, TARGET_TIME, LAG_SIZE, binary=True, scale=True)\n",
    "\n",
    "print (len(X), len(Y))\n",
    "\n",
    "X, Y = np.array(X), np.array(Y)\n",
    "X_train, X_test, Y_train, Y_test = create_Xt_Yt(X, Y, percentage=0.9)"
   ]
  },
  {
   "cell_type": "code",
   "execution_count": 17,
   "metadata": {
    "collapsed": true
   },
   "outputs": [],
   "source": [
    "X_train = np.reshape(X_train, (X_train.shape[0], X_train.shape[1], EMB_SIZE))\n",
    "X_test = np.reshape(X_test, (X_test.shape[0], X_test.shape[1], EMB_SIZE))\n",
    "\n",
    "model = Sequential()\n",
    "\n",
    "#model.add(LSTM(input_shape = (EMB_SIZE,), input_dim=EMB_SIZE, output_dim=HIDDEN_RNN, return_sequences=True))\n",
    "#model.add(LSTM(input_shape = (EMB_SIZE,), input_dim=EMB_SIZE, output_dim=HIDDEN_RNN, return_sequences=False))\n",
    "\n",
    "model.add(LSTM(units=4, return_sequences=True, input_shape=(None, EMB_SIZE)))\n",
    "model.add(LSTM(units=4, return_sequences=False, input_shape=(None, EMB_SIZE)))\n",
    "\n",
    "model.add(Dense(2))\n",
    "model.add(Activation('softmax'))\n",
    "model.compile(optimizer='adam', \n",
    "              loss='mse',\n",
    "              metrics=['accuracy'])"
   ]
  },
  {
   "cell_type": "code",
   "execution_count": 18,
   "metadata": {},
   "outputs": [
    {
     "name": "stdout",
     "output_type": "stream",
     "text": [
      "Train on 3297 samples, validate on 367 samples\n",
      "Epoch 1/5\n",
      "3297/3297 [==============================] - 1s - loss: 0.2504 - acc: 0.4986 - val_loss: 0.2491 - val_acc: 0.5014\n",
      "Epoch 2/5\n",
      "3297/3297 [==============================] - 0s - loss: 0.2502 - acc: 0.5056 - val_loss: 0.2490 - val_acc: 0.5368\n",
      "Epoch 3/5\n",
      "3297/3297 [==============================] - 0s - loss: 0.2502 - acc: 0.5050 - val_loss: 0.2491 - val_acc: 0.5286\n",
      "Epoch 4/5\n",
      "3297/3297 [==============================] - 0s - loss: 0.2502 - acc: 0.4980 - val_loss: 0.2491 - val_acc: 0.5450\n",
      "Epoch 5/5\n",
      "3297/3297 [==============================] - 0s - loss: 0.2500 - acc: 0.5050 - val_loss: 0.2492 - val_acc: 0.5204\n",
      "128/408 [========>.....................] - ETA: 0s\n",
      "Score : [0.25023960132224887, 0.49509803921568629]\n"
     ]
    }
   ],
   "source": [
    "model.fit(X_train, \n",
    "          Y_train, \n",
    "          epochs=5, \n",
    "          batch_size = 128, \n",
    "          verbose=1, \n",
    "          validation_split=0.1)\n",
    "\n",
    "\n",
    "score = model.evaluate(X_test, Y_test, batch_size=128)\n",
    "print (\"\\nScore :\",score)"
   ]
  },
  {
   "cell_type": "code",
   "execution_count": null,
   "metadata": {
    "collapsed": true
   },
   "outputs": [],
   "source": []
  },
  {
   "cell_type": "code",
   "execution_count": 20,
   "metadata": {},
   "outputs": [
    {
     "name": "stdout",
     "output_type": "stream",
     "text": [
      "Training...\n"
     ]
    },
    {
     "name": "stderr",
     "output_type": "stream",
     "text": [
      "[Parallel(n_jobs=4)]: Done  42 tasks      | elapsed:    0.3s\n"
     ]
    },
    {
     "name": "stdout",
     "output_type": "stream",
     "text": [
      "Prediction...\n",
      "Classification report for classifier RandomForestClassifier(bootstrap=True, class_weight=None, criterion='gini',\n",
      "            max_depth=None, max_features='auto', max_leaf_nodes=None,\n",
      "            min_impurity_decrease=0.0, min_impurity_split=None,\n",
      "            min_samples_leaf=1, min_samples_split=2,\n",
      "            min_weight_fraction_leaf=0.0, n_estimators=100, n_jobs=4,\n",
      "            oob_score=False, random_state=None, verbose=1,\n",
      "            warm_start=False):\n",
      "             precision    recall  f1-score   support\n",
      "\n",
      "          0       0.39      0.53      0.45       176\n",
      "          1       0.51      0.38      0.43       232\n",
      "\n",
      "avg / total       0.46      0.44      0.44       408\n",
      "\n",
      "\n"
     ]
    },
    {
     "name": "stderr",
     "output_type": "stream",
     "text": [
      "[Parallel(n_jobs=4)]: Done 100 out of 100 | elapsed:    0.7s finished\n",
      "[Parallel(n_jobs=4)]: Done  42 tasks      | elapsed:    0.0s\n",
      "[Parallel(n_jobs=4)]: Done 100 out of 100 | elapsed:    0.1s finished\n"
     ]
    }
   ],
   "source": [
    "timeseries, dates = load_returns('stockdatas/VTI.csv')\n",
    "X, Y = split_into_chunks(timeseries, TRAIN_SIZE, TARGET_TIME, LAG_SIZE, binary=True)\n",
    "X, Y = np.array(X), np.array(Y)\n",
    "X_train, X_test, Y_train, Y_test = create_Xt_Yt(X, Y, percentage=0.9)\n",
    "\n",
    "Y_train, Y_test = np.array([y.argmax() for y in Y_train]), np.array([y.argmax() for y in Y_test])\n",
    "\n",
    "\n",
    "from sklearn.ensemble import RandomForestClassifier \n",
    "from sklearn import metrics, svm\n",
    "from sklearn import linear_model\n",
    "\n",
    "print ('Training...')\n",
    "\n",
    "classifier = RandomForestClassifier(n_estimators = 100,\n",
    "                               n_jobs=4,\n",
    "                              verbose=1)\n",
    "\n",
    "#classifier = linear_model.LogisticRegression(C=1e-5)\n",
    "\n",
    "#classifier = svm.SVC()\n",
    "classifier.fit(X_train, Y_train)\n",
    "\n",
    "print ('Prediction...')\n",
    "predicted = classifier.predict(X_test)\n",
    "print(\"Classification report for classifier %s:\\n%s\\n\"\n",
    "      % (classifier, metrics.classification_report(Y_test, predicted)))"
   ]
  },
  {
   "cell_type": "markdown",
   "metadata": {},
   "source": [
    "# Classification problem - MLP"
   ]
  },
  {
   "cell_type": "code",
   "execution_count": 21,
   "metadata": {
    "collapsed": true
   },
   "outputs": [],
   "source": [
    "TRAIN_SIZE = 120 # 20 days close prices\n",
    "TARGET_TIME = 20 # predict the 21th day\n",
    "LAG_SIZE = 1\n",
    "EMB_SIZE = 1\n",
    "\n",
    "X, Y = split_into_chunks(timeseries, TRAIN_SIZE, TARGET_TIME, LAG_SIZE, binary=True, scale=True)\n",
    "X, Y = np.array(X), np.array(Y)\n",
    "X_train, X_test, Y_train, Y_test = create_Xt_Yt(X, Y, percentage=0.9)\n",
    "\n",
    "Xp, Yp = split_into_chunks(timeseries, TRAIN_SIZE, TARGET_TIME, LAG_SIZE, binary=True, scale=True)\n",
    "Xp, Yp = np.array(Xp), np.array(Yp)\n",
    "X_trainp, X_testp, Y_trainp, Y_testp = create_Xt_Yt(Xp, Yp, percentage=0.9)"
   ]
  },
  {
   "cell_type": "code",
   "execution_count": 22,
   "metadata": {
    "collapsed": true
   },
   "outputs": [],
   "source": [
    "model = Sequential()\n",
    "model.add(Dense(500, input_shape = (TRAIN_SIZE, )))\n",
    "model.add(Activation('relu'))\n",
    "model.add(Dropout(0.25))\n",
    "model.add(Dense(250))\n",
    "model.add(Activation('relu'))\n",
    "model.add(Dense(2))\n",
    "model.add(Activation('softmax'))\n",
    "model.compile(optimizer='adam', \n",
    "\t\t\t  loss='binary_crossentropy', \n",
    "\t\t\t  metrics=['accuracy'])"
   ]
  },
  {
   "cell_type": "code",
   "execution_count": 23,
   "metadata": {},
   "outputs": [
    {
     "name": "stdout",
     "output_type": "stream",
     "text": [
      "Train on 3209 samples, validate on 357 samples\n",
      "Epoch 1/5\n",
      "3209/3209 [==============================] - 0s - loss: 0.7532 - acc: 0.4902 - val_loss: 0.7177 - val_acc: 0.4986\n",
      "Epoch 2/5\n",
      "3209/3209 [==============================] - 0s - loss: 0.6526 - acc: 0.6105 - val_loss: 0.7106 - val_acc: 0.4986\n",
      "Epoch 3/5\n",
      "3209/3209 [==============================] - 0s - loss: 0.6163 - acc: 0.6697 - val_loss: 0.7264 - val_acc: 0.4986\n",
      "Epoch 4/5\n",
      "3209/3209 [==============================] - 0s - loss: 0.5643 - acc: 0.7205 - val_loss: 0.7509 - val_acc: 0.4874\n",
      "Epoch 5/5\n",
      "3209/3209 [==============================] - 0s - loss: 0.5188 - acc: 0.7582 - val_loss: 0.7699 - val_acc: 0.4790\n"
     ]
    }
   ],
   "source": [
    "history = model.fit(X_train, \n",
    "          Y_train, \n",
    "          epochs=5, \n",
    "          batch_size = 128, \n",
    "          verbose=1, \n",
    "          validation_split=0.1)"
   ]
  },
  {
   "cell_type": "code",
   "execution_count": 24,
   "metadata": {},
   "outputs": [
    {
     "name": "stdout",
     "output_type": "stream",
     "text": [
      " 32/397 [=>............................] - ETA: 0s\n",
      "Model Accuracy: 47.10%\n"
     ]
    }
   ],
   "source": [
    "scores = model.evaluate(X_test, Y_test, verbose=1)\n",
    "print(\"\\nModel Accuracy: %.2f%%\" % (scores[1]*100))"
   ]
  },
  {
   "cell_type": "code",
   "execution_count": 25,
   "metadata": {},
   "outputs": [
    {
     "data": {
      "image/png": "[encoded data removed]",
      "text/plain": [
       "<matplotlib.figure.Figure at 0x7f16716f0d68>"
      ]
     },
     "metadata": {},
     "output_type": "display_data"
    }
   ],
   "source": [
    "plt.figure()\n",
    "plt.plot(history.history['acc'])\n",
    "plt.plot(history.history['val_acc'])\n",
    "plt.title('model accuracy')\n",
    "plt.ylabel('accuracy')\n",
    "plt.xlabel('epoch')\n",
    "plt.legend(['train', 'test'], loc='best')\n",
    "plt.show()"
   ]
  },
  {
   "cell_type": "markdown",
   "metadata": {},
   "source": [
    "# Classification problem - CNN"
   ]
  },
  {
   "cell_type": "code",
   "execution_count": 34,
   "metadata": {},
   "outputs": [],
   "source": [
    "model = Sequential()\n",
    "# model.add(Convolution1D(input_shape = (TRAIN_SIZE, EMB_SIZE), \n",
    "#                         nb_filter=64,\n",
    "#                         filter_length=2,\n",
    "#                         border_mode='valid',\n",
    "#                         activation='relu',\n",
    "#                         subsample_length=1))\n",
    "\n",
    "model.add(Convolution1D(kernel_size=2, \n",
    "                 input_shape=(TRAIN_SIZE, EMB_SIZE), \n",
    "                 padding=\"valid\", filters=64, \n",
    "                 activation=\"relu\", strides=1))\n",
    "#model.add(MaxPooling1D(pool_length=2))\n",
    "model.add(MaxPooling1D(pool_size=2))\n",
    "\n",
    "# model.add(Convolution1D(input_shape = (TRAIN_SIZE, EMB_SIZE), \n",
    "#                         nb_filter=64,\n",
    "#                         filter_length=2,\n",
    "#                         border_mode='valid',\n",
    "#                         activation='relu',\n",
    "#                         subsample_length=1))\n",
    "model.add(Convolution1D(kernel_size=2, \n",
    "                 input_shape=(TRAIN_SIZE, EMB_SIZE), \n",
    "                 padding=\"valid\", filters=64, \n",
    "                 activation=\"relu\", strides=1))\n",
    "#model.add(MaxPooling1D(pool_length=2))\n",
    "model.add(MaxPooling1D(pool_size=2))\n",
    "\n",
    "model.add(Dropout(0.25))\n",
    "model.add(Flatten())\n",
    "\n",
    "model.add(Dense(250))\n",
    "model.add(Dropout(0.25))\n",
    "model.add(Activation('relu'))\n",
    "model.add(Dense(2))\n",
    "model.add(Activation('softmax'))\n",
    "\n",
    "history = TrainingHistory()\n",
    "\n",
    "model.compile(optimizer='adam', \n",
    "\t\t\t  loss='binary_crossentropy', \n",
    "\t\t\t  metrics=['accuracy'])"
   ]
  },
  {
   "cell_type": "code",
   "execution_count": 35,
   "metadata": {},
   "outputs": [
    {
     "ename": "ValueError",
     "evalue": "Error when checking input: expected conv1d_5_input to have 3 dimensions, but got array with shape (3566, 120)",
     "output_type": "error",
     "traceback": [
      "\u001b[0;31m---------------------------------------------------------------------------\u001b[0m",
      "\u001b[0;31mValueError\u001b[0m                                Traceback (most recent call last)",
      "\u001b[0;32m<ipython-input-35-9f577a54e1a4>\u001b[0m in \u001b[0;36m<module>\u001b[0;34m()\u001b[0m\n\u001b[0;32m----> 1\u001b[0;31m \u001b[0mmodel\u001b[0m\u001b[0;34m.\u001b[0m\u001b[0mfit\u001b[0m\u001b[0;34m(\u001b[0m\u001b[0mX_train\u001b[0m\u001b[0;34m,\u001b[0m \u001b[0mY_train\u001b[0m\u001b[0;34m,\u001b[0m \u001b[0mepochs\u001b[0m\u001b[0;34m=\u001b[0m\u001b[0;36m3\u001b[0m\u001b[0;34m,\u001b[0m \u001b[0mbatch_size\u001b[0m\u001b[0;34m=\u001b[0m\u001b[0;36m64\u001b[0m\u001b[0;34m)\u001b[0m\u001b[0;34m\u001b[0m\u001b[0m\n\u001b[0m\u001b[1;32m      2\u001b[0m \u001b[0;34m\u001b[0m\u001b[0m\n\u001b[1;32m      3\u001b[0m \u001b[0;31m# Evaluation on the test set\u001b[0m\u001b[0;34m\u001b[0m\u001b[0;34m\u001b[0m\u001b[0m\n\u001b[1;32m      4\u001b[0m \u001b[0mscores\u001b[0m \u001b[0;34m=\u001b[0m \u001b[0mmodel\u001b[0m\u001b[0;34m.\u001b[0m\u001b[0mevaluate\u001b[0m\u001b[0;34m(\u001b[0m\u001b[0mX_test\u001b[0m\u001b[0;34m,\u001b[0m \u001b[0mY_test\u001b[0m\u001b[0;34m,\u001b[0m \u001b[0mverbose\u001b[0m\u001b[0;34m=\u001b[0m\u001b[0;36m0\u001b[0m\u001b[0;34m)\u001b[0m\u001b[0;34m\u001b[0m\u001b[0m\n\u001b[1;32m      5\u001b[0m \u001b[0mprint\u001b[0m\u001b[0;34m(\u001b[0m\u001b[0;34m\"Accuracy: %.2f%%\"\u001b[0m \u001b[0;34m%\u001b[0m \u001b[0;34m(\u001b[0m\u001b[0mscores\u001b[0m\u001b[0;34m[\u001b[0m\u001b[0;36m1\u001b[0m\u001b[0;34m]\u001b[0m\u001b[0;34m*\u001b[0m\u001b[0;36m100\u001b[0m\u001b[0;34m)\u001b[0m\u001b[0;34m)\u001b[0m\u001b[0;34m\u001b[0m\u001b[0m\n",
      "\u001b[0;32m~/anaconda3/envs/research/lib/python3.5/site-packages/keras/models.py\u001b[0m in \u001b[0;36mfit\u001b[0;34m(self, x, y, batch_size, epochs, verbose, callbacks, validation_split, validation_data, shuffle, class_weight, sample_weight, initial_epoch, **kwargs)\u001b[0m\n\u001b[1;32m    865\u001b[0m                               \u001b[0mclass_weight\u001b[0m\u001b[0;34m=\u001b[0m\u001b[0mclass_weight\u001b[0m\u001b[0;34m,\u001b[0m\u001b[0;34m\u001b[0m\u001b[0m\n\u001b[1;32m    866\u001b[0m                               \u001b[0msample_weight\u001b[0m\u001b[0;34m=\u001b[0m\u001b[0msample_weight\u001b[0m\u001b[0;34m,\u001b[0m\u001b[0;34m\u001b[0m\u001b[0m\n\u001b[0;32m--> 867\u001b[0;31m                               initial_epoch=initial_epoch)\n\u001b[0m\u001b[1;32m    868\u001b[0m \u001b[0;34m\u001b[0m\u001b[0m\n\u001b[1;32m    869\u001b[0m     def evaluate(self, x, y, batch_size=32, verbose=1,\n",
      "\u001b[0;32m~/anaconda3/envs/research/lib/python3.5/site-packages/keras/engine/training.py\u001b[0m in \u001b[0;36mfit\u001b[0;34m(self, x, y, batch_size, epochs, verbose, callbacks, validation_split, validation_data, shuffle, class_weight, sample_weight, initial_epoch, steps_per_epoch, validation_steps, **kwargs)\u001b[0m\n\u001b[1;32m   1520\u001b[0m             \u001b[0mclass_weight\u001b[0m\u001b[0;34m=\u001b[0m\u001b[0mclass_weight\u001b[0m\u001b[0;34m,\u001b[0m\u001b[0;34m\u001b[0m\u001b[0m\n\u001b[1;32m   1521\u001b[0m             \u001b[0mcheck_batch_axis\u001b[0m\u001b[0;34m=\u001b[0m\u001b[0;32mFalse\u001b[0m\u001b[0;34m,\u001b[0m\u001b[0;34m\u001b[0m\u001b[0m\n\u001b[0;32m-> 1522\u001b[0;31m             batch_size=batch_size)\n\u001b[0m\u001b[1;32m   1523\u001b[0m         \u001b[0;31m# Prepare validation data.\u001b[0m\u001b[0;34m\u001b[0m\u001b[0;34m\u001b[0m\u001b[0m\n\u001b[1;32m   1524\u001b[0m         \u001b[0mdo_validation\u001b[0m \u001b[0;34m=\u001b[0m \u001b[0;32mFalse\u001b[0m\u001b[0;34m\u001b[0m\u001b[0m\n",
      "\u001b[0;32m~/anaconda3/envs/research/lib/python3.5/site-packages/keras/engine/training.py\u001b[0m in \u001b[0;36m_standardize_user_data\u001b[0;34m(self, x, y, sample_weight, class_weight, check_batch_axis, batch_size)\u001b[0m\n\u001b[1;32m   1376\u001b[0m                                     \u001b[0mself\u001b[0m\u001b[0;34m.\u001b[0m\u001b[0m_feed_input_shapes\u001b[0m\u001b[0;34m,\u001b[0m\u001b[0;34m\u001b[0m\u001b[0m\n\u001b[1;32m   1377\u001b[0m                                     \u001b[0mcheck_batch_axis\u001b[0m\u001b[0;34m=\u001b[0m\u001b[0;32mFalse\u001b[0m\u001b[0;34m,\u001b[0m\u001b[0;34m\u001b[0m\u001b[0m\n\u001b[0;32m-> 1378\u001b[0;31m                                     exception_prefix='input')\n\u001b[0m\u001b[1;32m   1379\u001b[0m         y = _standardize_input_data(y, self._feed_output_names,\n\u001b[1;32m   1380\u001b[0m                                     \u001b[0moutput_shapes\u001b[0m\u001b[0;34m,\u001b[0m\u001b[0;34m\u001b[0m\u001b[0m\n",
      "\u001b[0;32m~/anaconda3/envs/research/lib/python3.5/site-packages/keras/engine/training.py\u001b[0m in \u001b[0;36m_standardize_input_data\u001b[0;34m(data, names, shapes, check_batch_axis, exception_prefix)\u001b[0m\n\u001b[1;32m    130\u001b[0m                                  \u001b[0;34m' to have '\u001b[0m \u001b[0;34m+\u001b[0m \u001b[0mstr\u001b[0m\u001b[0;34m(\u001b[0m\u001b[0mlen\u001b[0m\u001b[0;34m(\u001b[0m\u001b[0mshapes\u001b[0m\u001b[0;34m[\u001b[0m\u001b[0mi\u001b[0m\u001b[0;34m]\u001b[0m\u001b[0;34m)\u001b[0m\u001b[0;34m)\u001b[0m \u001b[0;34m+\u001b[0m\u001b[0;34m\u001b[0m\u001b[0m\n\u001b[1;32m    131\u001b[0m                                  \u001b[0;34m' dimensions, but got array with shape '\u001b[0m \u001b[0;34m+\u001b[0m\u001b[0;34m\u001b[0m\u001b[0m\n\u001b[0;32m--> 132\u001b[0;31m                                  str(array.shape))\n\u001b[0m\u001b[1;32m    133\u001b[0m             \u001b[0;32mfor\u001b[0m \u001b[0mj\u001b[0m\u001b[0;34m,\u001b[0m \u001b[0;34m(\u001b[0m\u001b[0mdim\u001b[0m\u001b[0;34m,\u001b[0m \u001b[0mref_dim\u001b[0m\u001b[0;34m)\u001b[0m \u001b[0;32min\u001b[0m \u001b[0menumerate\u001b[0m\u001b[0;34m(\u001b[0m\u001b[0mzip\u001b[0m\u001b[0;34m(\u001b[0m\u001b[0marray\u001b[0m\u001b[0;34m.\u001b[0m\u001b[0mshape\u001b[0m\u001b[0;34m,\u001b[0m \u001b[0mshapes\u001b[0m\u001b[0;34m[\u001b[0m\u001b[0mi\u001b[0m\u001b[0;34m]\u001b[0m\u001b[0;34m)\u001b[0m\u001b[0;34m)\u001b[0m\u001b[0;34m:\u001b[0m\u001b[0;34m\u001b[0m\u001b[0m\n\u001b[1;32m    134\u001b[0m                 \u001b[0;32mif\u001b[0m \u001b[0;32mnot\u001b[0m \u001b[0mj\u001b[0m \u001b[0;32mand\u001b[0m \u001b[0;32mnot\u001b[0m \u001b[0mcheck_batch_axis\u001b[0m\u001b[0;34m:\u001b[0m\u001b[0;34m\u001b[0m\u001b[0m\n",
      "\u001b[0;31mValueError\u001b[0m: Error when checking input: expected conv1d_5_input to have 3 dimensions, but got array with shape (3566, 120)"
     ]
    }
   ],
   "source": [
    "model.fit(X_train, Y_train, epochs=3, batch_size=64)\n",
    "\n",
    "# Evaluation on the test set\n",
    "scores = model.evaluate(X_test, Y_test, verbose=0)\n",
    "print(\"Accuracy: %.2f%%\" % (scores[1]*100))"
   ]
  },
  {
   "cell_type": "markdown",
   "metadata": {},
   "source": [
    "# Regression CNN"
   ]
  },
  {
   "cell_type": "code",
   "execution_count": 36,
   "metadata": {},
   "outputs": [
    {
     "name": "stdout",
     "output_type": "stream",
     "text": [
      "\n",
      "\n",
      "Timeseries (4103 samples by 1 series):\n",
      " [[ 0.08      ]\n",
      " [-0.09      ]\n",
      " [ 0.06      ]\n",
      " ..., \n",
      " [ 0.        ]\n",
      " [ 0.18521905]\n",
      " [ 0.11113143]]\n",
      "\n",
      "\n",
      "Model with input size (None, 120, 1), output size (None, 1), 4 conv filters of length 5\n",
      "_________________________________________________________________\n",
      "Layer (type)                 Output Shape              Param #   \n",
      "=================================================================\n",
      "conv1d_7 (Conv1D)            (None, 116, 4)            24        \n",
      "_________________________________________________________________\n",
      "max_pooling1d_7 (MaxPooling1 (None, 58, 4)             0         \n",
      "_________________________________________________________________\n",
      "conv1d_8 (Conv1D)            (None, 54, 4)             84        \n",
      "_________________________________________________________________\n",
      "max_pooling1d_8 (MaxPooling1 (None, 27, 4)             0         \n",
      "_________________________________________________________________\n",
      "flatten_4 (Flatten)          (None, 108)               0         \n",
      "_________________________________________________________________\n",
      "dense_23 (Dense)             (None, 1)                 109       \n",
      "=================================================================\n",
      "Total params: 217\n",
      "Trainable params: 217\n",
      "Non-trainable params: 0\n",
      "_________________________________________________________________\n",
      "\n",
      "\n",
      "Input features:\n",
      "[[[ 0.08      ]\n",
      "  [-0.09      ]\n",
      "  [ 0.06      ]\n",
      "  ..., \n",
      "  [ 0.18912785]\n",
      "  [-0.42802618]\n",
      "  [-0.09954097]]\n",
      "\n",
      " [[-0.09      ]\n",
      "  [ 0.06      ]\n",
      "  [ 0.29      ]\n",
      "  ..., \n",
      "  [-0.42802618]\n",
      "  [-0.09954097]\n",
      "  [ 0.3882098 ]]\n",
      "\n",
      " [[ 0.06      ]\n",
      "  [ 0.29      ]\n",
      "  [ 0.13      ]\n",
      "  ..., \n",
      "  [-0.09954097]\n",
      "  [ 0.3882098 ]\n",
      "  [ 0.19908195]]\n",
      "\n",
      " ..., \n",
      " [[-0.70803508]\n",
      "  [-0.07453001]\n",
      "  [ 0.11179501]\n",
      "  ..., \n",
      "  [ 0.25930667]\n",
      "  [-0.25930667]\n",
      "  [ 0.51861333]]\n",
      "\n",
      " [[-0.07453001]\n",
      "  [ 0.11179501]\n",
      "  [-0.07453001]\n",
      "  ..., \n",
      "  [-0.25930667]\n",
      "  [ 0.51861333]\n",
      "  [ 0.        ]]\n",
      "\n",
      " [[ 0.11179501]\n",
      "  [-0.07453001]\n",
      "  [-0.29812003]\n",
      "  ..., \n",
      "  [ 0.51861333]\n",
      "  [ 0.        ]\n",
      "  [ 0.18521905]]]\n",
      "\n",
      "\n",
      "Output labels:\n",
      "[[ 0.3882098 ]\n",
      " [ 0.19908195]\n",
      " [ 0.89586876]\n",
      " ..., \n",
      " [ 0.        ]\n",
      " [ 0.18521905]\n",
      " [ 0.11113143]]\n",
      "\n",
      "\n",
      "Query vector:\n",
      "[[[-0.07453001]\n",
      "  [-0.29812003]\n",
      "  [-0.33538504]\n",
      "  [ 0.18632502]\n",
      "  [-0.11179501]\n",
      "  [-0.07453001]\n",
      "  [-0.22359003]\n",
      "  [ 0.18632502]\n",
      "  [ 0.33538504]\n",
      "  [ 0.11179501]\n",
      "  [-0.26085503]\n",
      "  [-0.33538504]\n",
      "  [ 0.59624007]\n",
      "  [-0.11179501]\n",
      "  [ 0.33538504]\n",
      "  [ 0.55524856]\n",
      "  [-0.16769252]\n",
      "  [-0.37265004]\n",
      "  [-0.74530008]\n",
      "  [ 0.14906002]\n",
      "  [ 0.81983009]\n",
      "  [-0.21986352]\n",
      "  [-0.31675254]\n",
      "  [ 0.56642806]\n",
      "  [ 0.24222253]\n",
      "  [-0.19377802]\n",
      "  [-1.04342012]\n",
      "  [ 0.22359003]\n",
      "  [ 0.24967553]\n",
      "  [-0.04471801]\n",
      "  [ 0.13042751]\n",
      "  [ 0.79747109]\n",
      "  [-0.23849603]\n",
      "  [-0.23849603]\n",
      "  [-0.09316251]\n",
      "  [-0.64468457]\n",
      "  [-0.32420554]\n",
      "  [ 0.44718005]\n",
      "  [-0.0409915 ]\n",
      "  [ 0.59624007]\n",
      "  [ 0.31675254]\n",
      "  [-0.48817155]\n",
      "  [ 0.        ]\n",
      "  [-0.20868402]\n",
      "  [-0.53848652]\n",
      "  [-0.70560303]\n",
      "  [-0.76130853]\n",
      "  [-0.43821662]\n",
      "  [ 0.46049882]\n",
      "  [ 0.37137002]\n",
      "  [-0.55705502]\n",
      "  [-0.66846603]\n",
      "  [-0.074274  ]\n",
      "  [-0.18568501]\n",
      "  [ 0.074274  ]\n",
      "  [-0.63132903]\n",
      "  [-0.55705502]\n",
      "  [-0.63132903]\n",
      "  [ 0.        ]\n",
      "  [ 0.63132903]\n",
      "  [-0.074274  ]\n",
      "  [ 0.111411  ]\n",
      "  [-0.63132903]\n",
      "  [ 0.        ]\n",
      "  [-0.37137002]\n",
      "  [ 0.14854801]\n",
      "  [-0.51991802]\n",
      "  [-0.25995901]\n",
      "  [ 0.        ]\n",
      "  [ 0.14854801]\n",
      "  [ 0.14854801]\n",
      "  [-0.63132903]\n",
      "  [ 0.111411  ]\n",
      "  [-0.44564402]\n",
      "  [-0.111411  ]\n",
      "  [-0.25995901]\n",
      "  [ 0.037137  ]\n",
      "  [ 0.111411  ]\n",
      "  [-0.14854801]\n",
      "  [ 0.037137  ]\n",
      "  [ 0.59419203]\n",
      "  [ 0.44564402]\n",
      "  [-0.44564402]\n",
      "  [-0.81701404]\n",
      "  [ 0.        ]\n",
      "  [-0.29709601]\n",
      "  [-0.111411  ]\n",
      "  [ 0.55705502]\n",
      "  [-0.51991802]\n",
      "  [ 0.40850702]\n",
      "  [ 0.55705502]\n",
      "  [-0.037137  ]\n",
      "  [-0.74274003]\n",
      "  [ 0.111411  ]\n",
      "  [-0.74274003]\n",
      "  [-0.33423301]\n",
      "  [ 0.        ]\n",
      "  [ 0.25995901]\n",
      "  [ 0.33423301]\n",
      "  [ 0.22282201]\n",
      "  [-0.074274  ]\n",
      "  [ 0.33423301]\n",
      "  [-0.33423301]\n",
      "  [-0.22226286]\n",
      "  [ 0.3704381 ]\n",
      "  [ 0.48156953]\n",
      "  [-0.51861333]\n",
      "  [-0.3704381 ]\n",
      "  [ 0.14817524]\n",
      "  [-0.66678857]\n",
      "  [-0.3704381 ]\n",
      "  [ 0.44452572]\n",
      "  [-0.33339429]\n",
      "  [-0.22226286]\n",
      "  [ 0.25930667]\n",
      "  [-0.25930667]\n",
      "  [ 0.51861333]\n",
      "  [ 0.        ]\n",
      "  [ 0.18521905]\n",
      "  [ 0.11113143]]]\n"
     ]
    },
    {
     "name": "stderr",
     "output_type": "stream",
     "text": [
      "/home/ros/anaconda3/envs/research/lib/python3.5/site-packages/ipykernel_launcher.py:24: UserWarning: Update your `Conv1D` call to the Keras 2 API: `Conv1D(filters=4, input_shape=(120, 1), activation=\"relu\", kernel_size=5)`\n",
      "/home/ros/anaconda3/envs/research/lib/python3.5/site-packages/ipykernel_launcher.py:26: UserWarning: Update your `Conv1D` call to the Keras 2 API: `Conv1D(filters=4, activation=\"relu\", kernel_size=5)`\n",
      "/home/ros/anaconda3/envs/research/lib/python3.5/site-packages/keras/models.py:848: UserWarning: The `nb_epoch` argument in `fit` has been renamed `epochs`.\n",
      "  warnings.warn('The `nb_epoch` argument in `fit` '\n"
     ]
    },
    {
     "name": "stdout",
     "output_type": "stream",
     "text": [
      "Train on 3942 samples, validate on 41 samples\n",
      "Epoch 1/25\n",
      "3942/3942 [==============================] - 4s - loss: 0.2835 - mean_absolute_error: 0.3766 - val_loss: 0.1586 - val_mean_absolute_error: 0.3369\n",
      "Epoch 2/25\n",
      "3942/3942 [==============================] - 3s - loss: 0.2727 - mean_absolute_error: 0.3686 - val_loss: 0.1586 - val_mean_absolute_error: 0.3372\n",
      "Epoch 3/25\n",
      "3942/3942 [==============================] - 3s - loss: 0.2709 - mean_absolute_error: 0.3664 - val_loss: 0.1595 - val_mean_absolute_error: 0.3380\n",
      "Epoch 4/25\n",
      "3942/3942 [==============================] - 4s - loss: 0.2701 - mean_absolute_error: 0.3665 - val_loss: 0.1588 - val_mean_absolute_error: 0.3374\n",
      "Epoch 5/25\n",
      "3942/3942 [==============================] - 3s - loss: 0.2683 - mean_absolute_error: 0.3654 - val_loss: 0.1575 - val_mean_absolute_error: 0.3384\n",
      "Epoch 6/25\n",
      "3942/3942 [==============================] - 4s - loss: 0.2664 - mean_absolute_error: 0.3645 - val_loss: 0.1577 - val_mean_absolute_error: 0.3384\n",
      "Epoch 7/25\n",
      "3942/3942 [==============================] - 4s - loss: 0.2646 - mean_absolute_error: 0.3638 - val_loss: 0.1588 - val_mean_absolute_error: 0.3382\n",
      "Epoch 8/25\n",
      "3942/3942 [==============================] - 3s - loss: 0.2631 - mean_absolute_error: 0.3636 - val_loss: 0.1596 - val_mean_absolute_error: 0.3377\n",
      "Epoch 9/25\n",
      "3942/3942 [==============================] - 3s - loss: 0.2622 - mean_absolute_error: 0.3640 - val_loss: 0.1592 - val_mean_absolute_error: 0.3383\n",
      "Epoch 10/25\n",
      "3942/3942 [==============================] - 3s - loss: 0.2608 - mean_absolute_error: 0.3633 - val_loss: 0.1574 - val_mean_absolute_error: 0.3380\n",
      "Epoch 11/25\n",
      "3942/3942 [==============================] - 3s - loss: 0.2600 - mean_absolute_error: 0.3636 - val_loss: 0.1564 - val_mean_absolute_error: 0.3374\n",
      "Epoch 12/25\n",
      "3942/3942 [==============================] - 4s - loss: 0.2594 - mean_absolute_error: 0.3632 - val_loss: 0.1584 - val_mean_absolute_error: 0.3365\n",
      "Epoch 13/25\n",
      "3942/3942 [==============================] - 3s - loss: 0.2587 - mean_absolute_error: 0.3635 - val_loss: 0.1583 - val_mean_absolute_error: 0.3364\n",
      "Epoch 14/25\n",
      "3942/3942 [==============================] - 3s - loss: 0.2572 - mean_absolute_error: 0.3615 - val_loss: 0.1577 - val_mean_absolute_error: 0.3388\n",
      "Epoch 15/25\n",
      "3942/3942 [==============================] - 4s - loss: 0.2561 - mean_absolute_error: 0.3622 - val_loss: 0.1583 - val_mean_absolute_error: 0.3377\n",
      "Epoch 16/25\n",
      "3942/3942 [==============================] - 3s - loss: 0.2553 - mean_absolute_error: 0.3623 - val_loss: 0.1568 - val_mean_absolute_error: 0.3366\n",
      "Epoch 17/25\n",
      "3942/3942 [==============================] - 4s - loss: 0.2547 - mean_absolute_error: 0.3624 - val_loss: 0.1583 - val_mean_absolute_error: 0.3373\n",
      "Epoch 18/25\n",
      "3942/3942 [==============================] - 3s - loss: 0.2541 - mean_absolute_error: 0.3620 - val_loss: 0.1573 - val_mean_absolute_error: 0.3386\n",
      "Epoch 19/25\n",
      "3942/3942 [==============================] - 3s - loss: 0.2527 - mean_absolute_error: 0.3613 - val_loss: 0.1578 - val_mean_absolute_error: 0.3379\n",
      "Epoch 20/25\n",
      "3942/3942 [==============================] - 3s - loss: 0.2524 - mean_absolute_error: 0.3615 - val_loss: 0.1590 - val_mean_absolute_error: 0.3397\n",
      "Epoch 21/25\n",
      "3942/3942 [==============================] - 3s - loss: 0.2512 - mean_absolute_error: 0.3614 - val_loss: 0.1584 - val_mean_absolute_error: 0.3401\n",
      "Epoch 22/25\n",
      "3942/3942 [==============================] - 3s - loss: 0.2500 - mean_absolute_error: 0.3599 - val_loss: 0.1593 - val_mean_absolute_error: 0.3390\n",
      "Epoch 23/25\n",
      "3942/3942 [==============================] - 3s - loss: 0.2492 - mean_absolute_error: 0.3592 - val_loss: 0.1568 - val_mean_absolute_error: 0.3396\n",
      "Epoch 24/25\n",
      "3942/3942 [==============================] - 3s - loss: 0.2501 - mean_absolute_error: 0.3622 - val_loss: 0.1582 - val_mean_absolute_error: 0.3389\n",
      "Epoch 25/25\n",
      "3942/3942 [==============================] - 3s - loss: 0.2484 - mean_absolute_error: 0.3601 - val_loss: 0.1582 - val_mean_absolute_error: 0.3379\n",
      "\n",
      "\n",
      "actual\tpredicted\n",
      "0.03713700160000144\t0.00980986\n",
      "0.5941920255999946\t0.0290707\n",
      "0.44564401929999775\t-0.000673359\n",
      "-0.44564401930000486\t0.0352311\n",
      "-0.8170140352999979\t-0.000673359\n",
      "0.0\t0.0172381\n",
      "-0.2970960127999973\t-0.0064162\n",
      "-0.11141100480000432\t0.0106734\n",
      "0.5570550241000021\t-0.0064162\n",
      "-0.5199180224999935\t0.0354457\n",
      "0.4085070177000034\t0.00226026\n",
      "0.5570550241000021\t0.03665\n",
      "-0.03713700160000144\t0.00226026\n",
      "-0.7427400320999951\t-0.0145767\n",
      "0.11141100480000432\t0.0108139\n",
      "-0.7427400321000022\t-0.0251773\n",
      "-0.33423301439999875\t0.0108139\n",
      "0.0\t-0.00843804\n",
      "0.25995901130000476\t0.0210529\n",
      "0.33423301440000586\t-0.0030017\n",
      "0.22282200960000154\t0.0210529\n",
      "-0.07427400319999578\t0.0306886\n",
      "0.33423301450000054\t0.00379639\n",
      "-0.33423301439999875\t0.038136\n",
      "-0.2222628578000041\t0.00379639\n",
      "0.37043809630000624\t0.00200153\n",
      "0.4815695252000012\t0.0100758\n",
      "-0.5186133348000013\t0.00466128\n",
      "-0.37043809629999913\t0.0100758\n",
      "0.14817523850000214\t0.00881238\n",
      "-0.6667885732999963\t0.0162384\n",
      "-0.37043809630000624\t0.00585111\n",
      "0.4445257155000064\t0.0162384\n",
      "-0.33339428669999904\t0.00585111\n",
      "-0.22226285770000231\t-0.00122165\n",
      "0.2593066674000042\t-0.00491302\n",
      "-0.2593066673999971\t-0.00122165\n",
      "0.5186133348000013\t-0.00491302\n",
      "0.0\t-0.00655319\n",
      "0.18521904809999512\t-0.00463229\n",
      "0.11113142890000205\t-0.00655319\n",
      "next\t-0.00463228952139616\n"
     ]
    }
   ],
   "source": [
    "def make_timeseries_regressor(window_size, filter_length, nb_input_series=1, nb_outputs=1, nb_filter=4):\n",
    "    \"\"\":Return: a Keras Model for predicting the next value in a timeseries given a fixed-size lookback window of previous values.\n",
    "    The model can handle multiple input timeseries (`nb_input_series`) and multiple prediction targets (`nb_outputs`).\n",
    "    :param int window_size: The number of previous timeseries values to use as input features.  Also called lag or lookback.\n",
    "    :param int nb_input_series: The number of input timeseries; 1 for a single timeseries.\n",
    "      The `X` input to ``fit()`` should be an array of shape ``(n_instances, window_size, nb_input_series)``; each instance is\n",
    "      a 2D array of shape ``(window_size, nb_input_series)``.  For example, for `window_size` = 3 and `nb_input_series` = 1 (a\n",
    "      single timeseries), one instance could be ``[[0], [1], [2]]``. See ``make_timeseries_instances()``.\n",
    "    :param int nb_outputs: The output dimension, often equal to the number of inputs.\n",
    "      For each input instance (array with shape ``(window_size, nb_input_series)``), the output is a vector of size `nb_outputs`,\n",
    "      usually the value(s) predicted to come after the last value in that input instance, i.e., the next value\n",
    "      in the sequence. The `y` input to ``fit()`` should be an array of shape ``(n_instances, nb_outputs)``.\n",
    "    :param int filter_length: the size (along the `window_size` dimension) of the sliding window that gets convolved with\n",
    "      each position along each instance. The difference between 1D and 2D convolution is that a 1D filter's \"height\" is fixed\n",
    "      to the number of input timeseries (its \"width\" being `filter_length`), and it can only slide along the window\n",
    "      dimension.  This is useful as generally the input timeseries have no spatial/ordinal relationship, so it's not\n",
    "      meaningful to look for patterns that are invariant with respect to subsets of the timeseries.\n",
    "    :param int nb_filter: The number of different filters to learn (roughly, input patterns to recognize).\n",
    "    \"\"\"\n",
    "    model = Sequential((\n",
    "        # The first conv layer learns `nb_filter` filters (aka kernels), each of size ``(filter_length, nb_input_series)``.\n",
    "        # Its output will have shape (None, window_size - filter_length + 1, nb_filter), i.e., for each position in\n",
    "        # the input timeseries, the activation of each filter at that position.\n",
    "        Convolution1D(nb_filter=nb_filter, filter_length=filter_length, activation='relu', input_shape=(window_size, nb_input_series)),\n",
    "        MaxPooling1D(),     # Downsample the output of convolution by 2X.\n",
    "        Convolution1D(nb_filter=nb_filter, filter_length=filter_length, activation='relu'),\n",
    "        MaxPooling1D(),\n",
    "        Flatten(),\n",
    "        Dense(nb_outputs, activation='linear'),     # For binary classification, change the activation to 'sigmoid'\n",
    "    ))\n",
    "    model.compile(loss='mse', optimizer='adam', metrics=['mae'])\n",
    "    # To perform (binary) classification instead:\n",
    "    # model.compile(loss='binary_crossentropy', optimizer='adam', metrics=['binary_accuracy'])\n",
    "    return model\n",
    "\n",
    "\n",
    "def make_timeseries_instances(timeseries, window_size):\n",
    "    \"\"\"Make input features and prediction targets from a `timeseries` for use in machine learning.\n",
    "    :return: A tuple of `(X, y, q)`.  `X` are the inputs to a predictor, a 3D ndarray with shape\n",
    "      ``(timeseries.shape[0] - window_size, window_size, timeseries.shape[1] or 1)``.  For each row of `X`, the\n",
    "      corresponding row of `y` is the next value in the timeseries.  The `q` or query is the last instance, what you would use\n",
    "      to predict a hypothetical next (unprovided) value in the `timeseries`.\n",
    "    :param ndarray timeseries: Either a simple vector, or a matrix of shape ``(timestep, series_num)``, i.e., time is axis 0 (the\n",
    "      row) and the series is axis 1 (the column).\n",
    "    :param int window_size: The number of samples to use as input prediction features (also called the lag or lookback).\n",
    "    \"\"\"\n",
    "    timeseries = np.asarray(timeseries)\n",
    "    assert 0 < window_size < timeseries.shape[0]\n",
    "    X = np.atleast_3d(np.array([timeseries[start:start + window_size] for start in range(0, timeseries.shape[0] - window_size)]))\n",
    "    y = timeseries[window_size:]\n",
    "    q = np.atleast_3d([timeseries[-window_size:]])\n",
    "    return X, y, q\n",
    "\n",
    "\n",
    "def evaluate_timeseries(timeseries, window_size):\n",
    "    \"\"\"Create a 1D CNN regressor to predict the next value in a `timeseries` using the preceding `window_size` elements\n",
    "    as input features and evaluate its performance.\n",
    "    :param ndarray timeseries: Timeseries data with time increasing down the rows (the leading dimension/axis).\n",
    "    :param int window_size: The number of previous timeseries values to use to predict the next.\n",
    "    \"\"\"\n",
    "    filter_length = 5\n",
    "    nb_filter = 4\n",
    "    timeseries = np.atleast_2d(timeseries)\n",
    "    if timeseries.shape[0] == 1:\n",
    "        timeseries = timeseries.T       # Convert 1D vectors to 2D column vectors\n",
    "\n",
    "    nb_samples, nb_series = timeseries.shape\n",
    "    print('\\n\\nTimeseries ({} samples by {} series):\\n'.format(nb_samples, nb_series), timeseries)\n",
    "    model = make_timeseries_regressor(window_size=window_size, filter_length=filter_length, nb_input_series=nb_series, nb_outputs=nb_series, nb_filter=nb_filter)\n",
    "    print('\\n\\nModel with input size {}, output size {}, {} conv filters of length {}'.format(model.input_shape, model.output_shape, nb_filter, filter_length))\n",
    "    model.summary()\n",
    "\n",
    "    X, y, q = make_timeseries_instances(timeseries, window_size)\n",
    "    print('\\n\\nInput features:', X, '\\n\\nOutput labels:', y, '\\n\\nQuery vector:', q, sep='\\n')\n",
    "    test_size = int(0.01 * nb_samples)           # In real life you'd want to use 0.2 - 0.5\n",
    "    X_train, X_test, y_train, y_test = X[:-test_size], X[-test_size:], y[:-test_size], y[-test_size:]\n",
    "    model.fit(X_train, y_train, nb_epoch=25, batch_size=2, validation_data=(X_test, y_test))\n",
    "\n",
    "    pred = model.predict(X_test)\n",
    "    print('\\n\\nactual', 'predicted', sep='\\t')\n",
    "    for actual, predicted in zip(y_test, pred.squeeze()):\n",
    "        print(actual.squeeze(), predicted, sep='\\t')\n",
    "    print('next', model.predict(q).squeeze(), sep='\\t')\n",
    "    \n",
    "evaluate_timeseries(timeseries, 120)"
   ]
  },
  {
   "cell_type": "markdown",
   "metadata": {},
   "source": [
    "# Conclusion\n",
    "\n",
    "Threating financial time series prediction as regression problem is better approach, it can learn the trend and prices close to the actual.\n",
    "\n",
    "MLPs are treating sequence data better as CNNs or RNNs which are supposed to work better with time series.\n",
    "\n",
    "future works :\n",
    "- Using different features (not only scaled time series) like techincal indicators, volume of sales\n",
    "- Try frequent data, minute-by minute to have more training data"
   ]
  },
  {
   "cell_type": "code",
   "execution_count": null,
   "metadata": {
    "collapsed": true
   },
   "outputs": [],
   "source": []
  }
 ],
 "metadata": {
  "kernelspec": {
   "display_name": "Python 3",
   "language": "python",
   "name": "python3"
  },
  "language_info": {
   "codemirror_mode": {
    "name": "ipython",
    "version": 3
   },
   "file_extension": ".py",
   "mimetype": "text/x-python",
   "name": "python",
   "nbconvert_exporter": "python",
   "pygments_lexer": "ipython3",
   "version": "3.5.4"
  }
 },
 "nbformat": 4,
 "nbformat_minor": 2
}
